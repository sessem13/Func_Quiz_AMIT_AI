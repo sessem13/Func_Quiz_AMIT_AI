{
 "cells": [
  {
   "cell_type": "markdown",
   "id": "638b31a0-bdb2-4215-81b0-41fc5a87a34b",
   "metadata": {
    "tags": []
   },
   "source": [
    "### Transform the code you made for calculating the area of a circleinto \n",
    "function that:\n",
    "\n",
    "○ Takes the radius as inputs\n",
    "\n",
    "○ Gives the area as an output\n"
   ]
  },
  {
   "cell_type": "code",
   "execution_count": null,
   "id": "1cd5082e-f973-435e-b796-f1ef5e0217c5",
   "metadata": {},
   "outputs": [],
   "source": [
    "def circle_area(radius):\n",
    "    radius = float(input(\"Insert the radius of the circle: \\n\"))\n",
    "    area = 4 * 3.14 * pow(radius,2)\n",
    "    return area"
   ]
  },
  {
   "cell_type": "code",
   "execution_count": null,
   "id": "01993f7b-37c8-42d1-86b3-5e45b0113313",
   "metadata": {},
   "outputs": [],
   "source": [
    "area_calculator = circle_area(10) # how to call the function"
   ]
  },
  {
   "cell_type": "markdown",
   "id": "3e81cce6-690c-422d-8c26-9029d4bdd3c7",
   "metadata": {},
   "source": [
    "### write a function to calculate the factorialof \n",
    "\n",
    "a given number and returns the result:"
   ]
  },
  {
   "cell_type": "markdown",
   "id": "40af4086-f755-4537-abf2-b7a21171babb",
   "metadata": {},
   "source": [
    "○ 1! = 1\n",
    "\n",
    "○ 3! = 3*2*1\n",
    "\n",
    "○ 5! = 5*4*3*2*1\n"
   ]
  },
  {
   "cell_type": "code",
   "execution_count": null,
   "id": "534fb5c7-6731-4df8-b0b3-a62ee8dc0770",
   "metadata": {},
   "outputs": [],
   "source": [
    "def factorial(num):\n",
    "    if num < 0 :\n",
    "        print(\"Can't provide a factorial for a negative number.\")\n",
    "    elif num == 0 :\n",
    "        print(\"Factorial of zero is 1.\")\n",
    "    else:\n",
    "        fact = 1\n",
    "        for i in range(1, num+1):\n",
    "            fact = fact*i\n",
    "        return fact\n",
    "result = factorial(-5)\n",
    "print(result)"
   ]
  },
  {
   "cell_type": "code",
   "execution_count": null,
   "id": "a99b5d5f-b8f3-45a4-ae27-eb742288d657",
   "metadata": {},
   "outputs": [],
   "source": [
    "x - factorial(5) # how to call the function"
   ]
  }
 ],
 "metadata": {
  "kernelspec": {
   "display_name": "Python 3 (ipykernel)",
   "language": "python",
   "name": "python3"
  },
  "language_info": {
   "codemirror_mode": {
    "name": "ipython",
    "version": 3
   },
   "file_extension": ".py",
   "mimetype": "text/x-python",
   "name": "python",
   "nbconvert_exporter": "python",
   "pygments_lexer": "ipython3",
   "version": "3.9.13"
  }
 },
 "nbformat": 4,
 "nbformat_minor": 5
}
